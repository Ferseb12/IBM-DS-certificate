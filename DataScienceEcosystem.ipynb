{
 "cells": [
  {
   "cell_type": "markdown",
   "id": "5cbc744f-9305-4bd4-825a-c302a4edb476",
   "metadata": {},
   "source": [
    "# Data Science Tools and Ecosystem"
   ]
  },
  {
   "cell_type": "markdown",
   "id": "3ae50979-fca0-4e29-953e-0c9634eb2ed8",
   "metadata": {},
   "source": [
    "## Author \n",
    "Fernando Escobar"
   ]
  },
  {
   "cell_type": "markdown",
   "id": "5814e4ed-15d0-43e3-9086-29dc32806dec",
   "metadata": {},
   "source": [
    "This notebooks corresponds to my first project for IBM course. Here, Data Science Tools and Ecosystem are summarized"
   ]
  },
  {
   "cell_type": "markdown",
   "id": "26a1390c-ffd8-48af-a469-5706f5bdc50e",
   "metadata": {},
   "source": [
    "**Objectives:**\n",
    "* Popular Languages for Data Science\n",
    "* Commonly used Libraries by Data Scientist\n",
    "* Creation of markdown tables\n",
    "* Arithmetic expressions and its results\n"
   ]
  },
  {
   "cell_type": "markdown",
   "id": "c0aac897-6892-4b5d-a19d-644a83a71724",
   "metadata": {},
   "source": [
    "**The first thing to learn is the most popular languages used by Data Scientist, they are:**\n",
    "\n",
    "1. Python\n",
    "2. R\n",
    "3. STATA\n",
    "4. Julia\n",
    "5. C++"
   ]
  },
  {
   "cell_type": "markdown",
   "id": "8e38dcd4-e810-4da0-ae33-94e6819f82aa",
   "metadata": {},
   "source": [
    "**The second useful knowledge are some commonly used libraries as the following:**\n",
    "1. Pandas\n",
    "2. NumPy\n",
    "3. Plotly\n",
    "4. Scikit-learn\n",
    "5. TensorFlow"
   ]
  },
  {
   "cell_type": "markdown",
   "id": "d77a3c7b-93c0-4cd4-984e-138e487a3a37",
   "metadata": {},
   "source": [
    "|**Data Science Tools**|\n",
    "|----|\n",
    "|R Studio|\n",
    "|Jupyter Notebooks|\n",
    "|Apache Zeppelin|"
   ]
  },
  {
   "cell_type": "markdown",
   "id": "918c0382-3b28-4544-9242-99b0eef873d1",
   "metadata": {},
   "source": [
    "### Here are some examples of arithmetic expression in Python, this aims to evaluate its functionality"
   ]
  },
  {
   "cell_type": "code",
   "execution_count": 8,
   "id": "6de2c910-67f1-4295-b75a-079ec20e5639",
   "metadata": {},
   "outputs": [
    {
     "data": {
      "text/plain": [
       "17"
      ]
     },
     "execution_count": 8,
     "metadata": {},
     "output_type": "execute_result"
    }
   ],
   "source": [
    "# This is a simple arithmetic expression to multiply then add integers\n",
    "(3*4)+5"
   ]
  },
  {
   "cell_type": "code",
   "execution_count": 10,
   "id": "7b1dc796-9ee0-4946-9014-84c945652299",
   "metadata": {},
   "outputs": [
    {
     "data": {
      "text/plain": [
       "3.3333333333333335"
      ]
     },
     "execution_count": 10,
     "metadata": {},
     "output_type": "execute_result"
    }
   ],
   "source": [
    "# This expression convert minutes to hours, to do so we divide minutes by 60\n",
    "200/60"
   ]
  }
 ],
 "metadata": {
  "kernelspec": {
   "display_name": "Python 3 (ipykernel)",
   "language": "python",
   "name": "python3"
  },
  "language_info": {
   "codemirror_mode": {
    "name": "ipython",
    "version": 3
   },
   "file_extension": ".py",
   "mimetype": "text/x-python",
   "name": "python",
   "nbconvert_exporter": "python",
   "pygments_lexer": "ipython3",
   "version": "3.11.5"
  }
 },
 "nbformat": 4,
 "nbformat_minor": 5
}
